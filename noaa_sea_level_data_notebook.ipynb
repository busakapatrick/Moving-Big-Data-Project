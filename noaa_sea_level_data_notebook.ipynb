{
  "cells": [
    {
      "cell_type": "markdown",
      "metadata": {
        "id": "view-in-github",
        "colab_type": "text"
      },
      "source": [
        "<a href=\"https://colab.research.google.com/github/busakapatrick/Moving-Big-Data-Project/blob/main/noaa_sea_level_data_notebook.ipynb\" target=\"_parent\"><img src=\"https://colab.research.google.com/assets/colab-badge.svg\" alt=\"Open In Colab\"/></a>"
      ]
    },
    {
      "cell_type": "markdown",
      "metadata": {
        "id": "vCDBoUR50Mfs"
      },
      "source": [
        "# Minimal working example to work the the NOOA Tides and Currents API\n",
        "\n",
        "- Identify the station of interest - here you want to find the ID next to the station name, e.g. Montauk, NY [8510560]\n",
        "https://tidesandcurrents.noaa.gov/map/index.html\n",
        "\n",
        "- Here is a reference to the API - to help you understand what's available\n",
        "https://api.tidesandcurrents.noaa.gov/api/prod/#products\n",
        "\n",
        "- NB. Understand the different datums - is the reference you're using the most relevant one for extreme events?\n",
        "https://tidesandcurrents.noaa.gov/datum_options.html\n",
        "\n",
        "- The `noaa_coops` library is just a thin `requests` wrapper around the API I referenced above "
      ]
    },
    {
      "cell_type": "code",
      "source": [
        "!pip install noaa_coops"
      ],
      "metadata": {
        "colab": {
          "base_uri": "https://localhost:8080/"
        },
        "id": "pPqvuBv502bP",
        "outputId": "59c3d633-e240-413f-c13a-163636ff1f7c"
      },
      "execution_count": 2,
      "outputs": [
        {
          "output_type": "stream",
          "name": "stdout",
          "text": [
            "Looking in indexes: https://pypi.org/simple, https://us-python.pkg.dev/colab-wheels/public/simple/\n",
            "Collecting noaa_coops\n",
            "  Downloading noaa_coops-0.1.9-py3-none-any.whl (21 kB)\n",
            "Requirement already satisfied: requests in /usr/local/lib/python3.7/dist-packages (from noaa_coops) (2.23.0)\n",
            "Requirement already satisfied: numpy in /usr/local/lib/python3.7/dist-packages (from noaa_coops) (1.21.6)\n",
            "Collecting zeep\n",
            "  Downloading zeep-4.1.0-py2.py3-none-any.whl (100 kB)\n",
            "\u001b[K     |████████████████████████████████| 100 kB 4.8 MB/s \n",
            "\u001b[?25hRequirement already satisfied: pandas>=1.1.3 in /usr/local/lib/python3.7/dist-packages (from noaa_coops) (1.3.5)\n",
            "Requirement already satisfied: python-dateutil>=2.7.3 in /usr/local/lib/python3.7/dist-packages (from pandas>=1.1.3->noaa_coops) (2.8.2)\n",
            "Requirement already satisfied: pytz>=2017.3 in /usr/local/lib/python3.7/dist-packages (from pandas>=1.1.3->noaa_coops) (2022.2.1)\n",
            "Requirement already satisfied: six>=1.5 in /usr/local/lib/python3.7/dist-packages (from python-dateutil>=2.7.3->pandas>=1.1.3->noaa_coops) (1.15.0)\n",
            "Requirement already satisfied: chardet<4,>=3.0.2 in /usr/local/lib/python3.7/dist-packages (from requests->noaa_coops) (3.0.4)\n",
            "Requirement already satisfied: idna<3,>=2.5 in /usr/local/lib/python3.7/dist-packages (from requests->noaa_coops) (2.10)\n",
            "Requirement already satisfied: certifi>=2017.4.17 in /usr/local/lib/python3.7/dist-packages (from requests->noaa_coops) (2022.6.15)\n",
            "Requirement already satisfied: urllib3!=1.25.0,!=1.25.1,<1.26,>=1.21.1 in /usr/local/lib/python3.7/dist-packages (from requests->noaa_coops) (1.24.3)\n",
            "Collecting requests-toolbelt>=0.7.1\n",
            "  Downloading requests_toolbelt-0.9.1-py2.py3-none-any.whl (54 kB)\n",
            "\u001b[K     |████████████████████████████████| 54 kB 2.8 MB/s \n",
            "\u001b[?25hRequirement already satisfied: lxml>=4.6.0 in /usr/local/lib/python3.7/dist-packages (from zeep->noaa_coops) (4.9.1)\n",
            "Collecting requests-file>=1.5.1\n",
            "  Downloading requests_file-1.5.1-py2.py3-none-any.whl (3.7 kB)\n",
            "Requirement already satisfied: cached-property>=1.3.0 in /usr/local/lib/python3.7/dist-packages (from zeep->noaa_coops) (1.5.2)\n",
            "Requirement already satisfied: attrs>=17.2.0 in /usr/local/lib/python3.7/dist-packages (from zeep->noaa_coops) (22.1.0)\n",
            "Collecting isodate>=0.5.4\n",
            "  Downloading isodate-0.6.1-py2.py3-none-any.whl (41 kB)\n",
            "\u001b[K     |████████████████████████████████| 41 kB 625 kB/s \n",
            "\u001b[?25hCollecting platformdirs>=1.4.0\n",
            "  Downloading platformdirs-2.5.2-py3-none-any.whl (14 kB)\n",
            "Installing collected packages: requests-toolbelt, requests-file, platformdirs, isodate, zeep, noaa-coops\n",
            "Successfully installed isodate-0.6.1 noaa-coops-0.1.9 platformdirs-2.5.2 requests-file-1.5.1 requests-toolbelt-0.9.1 zeep-4.1.0\n"
          ]
        }
      ]
    },
    {
      "cell_type": "code",
      "execution_count": 12,
      "metadata": {
        "colab": {
          "base_uri": "https://localhost:8080/"
        },
        "id": "6JV7IS1w0Mf2",
        "outputId": "c1a04f81-6d13-4237-d1e9-e019eed50aba"
      },
      "outputs": [
        {
          "output_type": "stream",
          "name": "stdout",
          "text": [
            "Getting data for: La Jolla, CA\n",
            "Station located at {'lat': 32.866889, 'lon': -117.257139}\n",
            "                     water_level  sigma flags\n",
            "date_time                                    \n",
            "1960-01-01 00:00:00       -0.386    0.0   0,0\n",
            "1960-01-01 01:00:00       -0.417    0.0   0,0\n",
            "1960-01-01 02:00:00       -0.234    0.0   0,0\n",
            "1960-01-01 03:00:00        0.163    0.0   0,0\n",
            "1960-01-01 04:00:00        0.559    0.0   0,0\n"
          ]
        }
      ],
      "source": [
        "#@title Default title text\n",
        "import noaa_coops as nc # simply pip install noaa_coops\n",
        "\n",
        "stations = {\"La Jolla, CA\": 9410230}\n",
        "\n",
        "for station_name, station_id in stations.items():\n",
        "    print(f\"Getting data for: {station_name}\")\n",
        "    station = nc.Station(station_id)\n",
        "    print(f\"Station located at {station.lat_lon}\")\n",
        "\n",
        "    # TODO: parameterize these\n",
        "    hourly_height = station.get_data(\n",
        "        begin_date=\"19600101\",\n",
        "        end_date=\"20220131\",\n",
        "        product=\"hourly_height\",\n",
        "        datum=\"MLLW\",\n",
        "        units=\"metric\",\n",
        "        time_zone=\"gmt\",\n",
        "    )\n",
        "\n",
        "    print(hourly_height.head())\n",
        "  "
      ]
    },
    {
      "cell_type": "code",
      "source": [
        "print(hourly_height.shape)"
      ],
      "metadata": {
        "colab": {
          "base_uri": "https://localhost:8080/"
        },
        "id": "-2jlrhV_OMir",
        "outputId": "323cf268-2264-43cb-c20d-05f789b9fa90"
      },
      "execution_count": 13,
      "outputs": [
        {
          "output_type": "stream",
          "name": "stdout",
          "text": [
            "(544763, 3)\n"
          ]
        }
      ]
    }
  ],
  "metadata": {
    "kernelspec": {
      "display_name": "Python 3.9.12 ('.venv': venv)",
      "language": "python",
      "name": "python3"
    },
    "language_info": {
      "codemirror_mode": {
        "name": "ipython",
        "version": 3
      },
      "file_extension": ".py",
      "mimetype": "text/x-python",
      "name": "python",
      "nbconvert_exporter": "python",
      "pygments_lexer": "ipython3",
      "version": "3.9.12"
    },
    "orig_nbformat": 4,
    "vscode": {
      "interpreter": {
        "hash": "f97469f69089816587ec35bbc6a039f70cebe3997e54b7c0d3eb0da735f6cc87"
      }
    },
    "colab": {
      "provenance": [],
      "collapsed_sections": [],
      "include_colab_link": true
    }
  },
  "nbformat": 4,
  "nbformat_minor": 0
}